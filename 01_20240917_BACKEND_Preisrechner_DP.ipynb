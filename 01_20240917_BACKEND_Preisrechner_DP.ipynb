{
 "cells": [
  {
   "cell_type": "code",
   "execution_count": 2,
   "metadata": {},
   "outputs": [
    {
     "data": {
      "text/plain": [
       "'coded by Ok@Nikolov'"
      ]
     },
     "execution_count": 2,
     "metadata": {},
     "output_type": "execute_result"
    }
   ],
   "source": [
    "oka = \"coded by Ok@Nikolov\"\n",
    "okah = \"coded by Ok@Nikolov with external help\"\n",
    "\n",
    "import pandas as pd\n",
    "\n",
    "class Preisschaetzer:\n",
    "    def __init__(self, excel_datei='6199.xlsx'):\n",
    "        self.daten = pd.read_excel(excel_datei)\n",
    "\n",
    "    def berechne_preis(self, eingaben):\n",
    "        grundstück_faktor = self.daten['Faktor_Grundstück'].values[0]\n",
    "        wohnfläche_faktor = self.daten['Faktor_Wohnfläche'].values[0]\n",
    "\n",
    "        preis = (\n",
    "            grundstück_faktor * eingaben['grundstück'] + \n",
    "            wohnfläche_faktor * eingaben['wohnfläche']\n",
    "        )\n",
    "\n",
    "        if eingaben['architektenhaus']:\n",
    "            preis *= self.daten['Faktor_Architektenhaus'].values[0]\n",
    "        if eingaben['makler']:\n",
    "            preis *= self.daten['Faktor_Makler'].values[0]\n",
    "        if eingaben['denkmalschutz']:\n",
    "            preis *= self.daten['Faktor_Denkmalschutz'].values[0]\n",
    "\n",
    "        if eingaben['lage'] == 'Stadt':\n",
    "            preis *= self.daten['Faktor_Stadt'].values[0]\n",
    "        else:\n",
    "            preis *= self.daten['Faktor_Land'].values[0]\n",
    "\n",
    "        preis *= self.daten['Faktor_Ausstattung'][eingaben['ausstattung']]\n",
    "        preis *= self.daten['Faktor_Baujahr'][eingaben['baujahr']]\n",
    "        preis *= self.daten['Faktor_Bundesland'][eingaben['bundesland']]\n",
    "        preis *= self.daten['Faktor_Hausart'][eingaben['hausart']]\n",
    "\n",
    "        return preis\n",
    "    \n",
    "oka"
   ]
  },
  {
   "cell_type": "markdown",
   "metadata": {},
   "source": [
    "**Erklärung des Backends für die Praktikanten Eric, Artjoms und Michael**\n",
    "\n",
    "- Import der **Pandas-Bibliothek:** Pandas wird verwendet, um Excel-Dateien zu lesen und zu verarbeiten, da es eine leistungsfähige Datenstruktur namens DataFrame bereitstellt.\n",
    "\n",
    "- Klassenname **Preisschaetzer:** Dies ist eine Klasse, die eine Excel-Datei mit Preisfaktoren lädt und basierend auf Benutzereingaben den Immobilienpreis berechnet.\n",
    "- *Initialisierung der Klasse:*\n",
    "- Die Methode __init__ wird aufgerufen, wenn eine Instanz der Klasse erstellt wird.\n",
    "- Parameter excel_datei: Der Standardwert ist die Datei 6199.xlsx, die in derselben Verzeichnisstruktur wie das Python-Skript gespeichert werden sollte.\n",
    "- self.daten: Hier wird die Excel-Datei gelesen und die Daten in einem DataFrame gespeichert, auf den später zugegriffen wird. Pandas wird verwendet, um die Datei zu lesen (pd.read_excel(excel_datei)).\n",
    "- **berechne_preis:** Diese *Methode* berechnet den Preis der Immobilie basierend auf:\n",
    "- eingaben: Ein *Dictionary*, das die Eingabewerte des Benutzers enthält (z.B. Grundstücksgröße, Wohnfläche, besondere Faktoren wie Denkmalschutz).\n",
    "- **Lagefaktor:** Der Preis wird basierend auf der Lage der Immobilie (Stadt oder Land) angepasst.\n",
    "- *Faktor_Stadt:* Dieser Wert aus der Excel-Datei wird verwendet, wenn die Immobilie in der Stadt liegt.\n",
    "- *Faktor_Land:* Dieser Wert wird verwendet, wenn die Immobilie auf dem Land liegt.\n",
    "- Ausstattung: Der Preis wird mit einem Faktor multipliziert, der von der Ausstattung der Immobilie abhängt.\n",
    "- *Baujahr:* Der Faktor für das Baujahr wird berücksichtigt.\n",
    "- *Bundesland:* Der Faktor variiert je nach Bundesland.\n",
    "- *Hausart:* Verschiedene Hausarten haben unterschiedliche Faktoren.\n",
    "- *Preis zurückgeben:* Die Methode gibt den endgültig berechneten Immobilienpreis zurück.\n",
    "\n",
    "\n"
   ]
  },
  {
   "cell_type": "markdown",
   "metadata": {},
   "source": [
    "**Quellen:**\n",
    "Das Backend wurde mithilfe folgender Quellen erstellt\n",
    "1. Eric's Unterricht\n",
    "2. lerneprogrammieren.de (Letzter Zugriff 17.09.2024)\n",
    "3. adesso.de (Letzter Zugriff 17.09.2024)\n",
    "4. t2informatik.de (Letzter Zugriff 17.09.2024)\n",
    "5. openai.com/chatgtp (Letzter Zugriff 17.09.2024)\n",
    "6. Backend (FULL) Kurs via Youtube: https://www.youtube.com/watch?v=YyZzX2nWTwA (Letzter Zugriff 14.09.2024)\n",
    "\n",
    "-"
   ]
  },
  {
   "cell_type": "markdown",
   "metadata": {},
   "source": [
    "**Allerdings greift der Code, den wir oben gesehen haben auf fest codierte Spaltennamen zu**  Damit der Code *flexibel* bleibt und sich an Änderungen der Werte in der Excel-Datei anpasst, werde ich ihn so  gestalten, dass die Spaltennamen und die Werte *dynamisch aus der Excel-Datei* ausgelesen werden. Dies bedeutet, dass wir nicht fest codierte Spaltennamen verwenden, sondern die *Excel-Datei dynamisch* analysieren, um die passenden Werte zu extrahieren."
   ]
  },
  {
   "cell_type": "code",
   "execution_count": 7,
   "metadata": {},
   "outputs": [
    {
     "data": {
      "text/plain": [
       "'coded by Ok@Nikolov with external help'"
      ]
     },
     "execution_count": 7,
     "metadata": {},
     "output_type": "execute_result"
    }
   ],
   "source": [
    "import pandas as pd\n",
    "\n",
    "# Hier seht ihr die generelle Backend-Logik: Der Code liest Daten aus der Excel-Datei und berechnet den Preis\n",
    "class PreisSchätzer:\n",
    "    def __init__(self, excel_datei):\n",
    "        self.daten = pd.read_excel(excel_datei, sheet_name=None)  \n",
    "        # Liest alle Blätter der Excel-Datei - beim Zusammenfügen von Frontent und Backend müssen wir das noch auf das eine Tabellenblatt/ Zellen anpassen (in unserem Fall = Tabelle 1 - die unteren Strings sind also später hinfällig- der Vollständigkeit werden sie mit aufgenommen)\n",
    "        self.parameter = self.daten['Parameter']  # Platzhalter1: Tabelle 'Parameter' enthält relevante Faktoren\n",
    "        self.faktoren = self.daten['Faktoren']    # Platzhalter2: Tabelle 'Faktoren' enthält Berechnungsfaktoren\n",
    "\n",
    "    \n",
    "    # Dynamisches Abrufen von Faktoren aus der Excel-Datei der Faktoren, die uns vorgegeben wurden. Ich werde nicht jeden einzelnen String benennen, bei Fragen kommt auf mich zu \n",
    "    # Die Variabeln sollten Eindeutig benannt sein \n",
    "    def berechne_preis(self, eingaben): \n",
    "       \n",
    "        grundstück_faktor = self._hole_faktor('Grundstück', eingaben['grundstück'])\n",
    "        wohnfläche_faktor = self._hole_faktor('Wohnfläche', eingaben['wohnfläche'])\n",
    "\n",
    "        preis = grundstück_faktor * eingaben['grundstück'] + wohnfläche_faktor * eingaben['wohnfläche']\n",
    "\n",
    "        if eingaben['architektenhaus']:\n",
    "            preis *= self._hole_faktor('Architektenhaus', True)\n",
    "        if eingaben['makler']:\n",
    "            preis *= self._hole_faktor('Makler', True)\n",
    "        if eingaben['denkmalschutz']:\n",
    "            preis *= self._hole_faktor('Denkmalschutz', True)\n",
    "\n",
    "        lage_faktor = self._hole_faktor('Lage', eingaben['lage'])\n",
    "        preis *= lage_faktor\n",
    "\n",
    "        ausstattungs_faktor = self._hole_faktor('Ausstattung', eingaben['ausstattung'])\n",
    "        baujahr_faktor = self._hole_faktor('Baujahr', eingaben['baujahr'])\n",
    "        bundesland_faktor = self._hole_faktor('Bundesland', eingaben['bundesland'])\n",
    "        hausart_faktor = self._hole_faktor('Hausart', eingaben['hausart'])\n",
    "\n",
    "        preis *= ausstattungs_faktor * baujahr_faktor * bundesland_faktor * hausart_faktor\n",
    "\n",
    "        return preis\n",
    "\n",
    "    def _hole_faktor(self, kategorie, wert):\n",
    "        try:\n",
    "            faktor = self.faktoren.loc[self.faktoren['Kategorie'] == kategorie, str(wert)].values[0]\n",
    "        except IndexError:\n",
    "            raise ValueError(f\"Kein Faktor für {kategorie} und Wert {wert} gefunden.\")\n",
    "        return faktor\n",
    "    \n",
    "okah\n"
   ]
  },
  {
   "cell_type": "markdown",
   "metadata": {},
   "source": [
    "**Wichtige Änderungen:**\n",
    "1.\t*Dynamische Struktur:* Anstatt fest definierte Spaltennamen zu verwenden (z.B. Faktor_Grundstück, Faktor_Wohnfläche), wird die Excel-Datei analysiert, um die relevanten Faktoren dynamisch basierend auf den Kategorien (z.B. Grundstück, Wohnfläche) und den Werten des Nutzers zu finden.\n",
    "2.\t*Flexibilität bei der Excel-Struktur:* Die Excel-Datei kann erweitert oder verändert werden, solange die Blattnamen (z.B. Parameter und Faktoren) beibehalten werden. Dies ermöglicht es, dass der Code weiterhin funktioniert, auch wenn sich die Werte oder die Kategorien ändern.\n",
    "3.\t*_hole_faktor Methode:* Diese Methode sucht dynamisch nach dem entsprechenden Faktor für eine bestimmte Kategorie (wie Grundstück) und einen bestimmten Wert (wie die Grundstücksgröße). Wenn kein passender Faktor gefunden wird, wirft die Methode einen Fehler, damit klar ist, dass etwas mit der Eingabe nicht stimmt.\n"
   ]
  },
  {
   "cell_type": "markdown",
   "metadata": {},
   "source": [
    "*Die Codeänderungen wurde mithilfe folgender Quellen erstellt:*\n",
    "1. Eric's Unterricht\n",
    "5. openai.com/chatgtp [ hat mir vorallem bei der hole_faktor Methode geholfen] (Letzter Zugriff 17.09.2024)\n",
    "6. Backend (FULL) Kurs via Youtube: https://www.youtube.com/watch?v=YyZzX2nWTwA (Letzter Zugriff 14.09.2024)"
   ]
  }
 ],
 "metadata": {
  "kernelspec": {
   "display_name": "datacraft",
   "language": "python",
   "name": "python3"
  },
  "language_info": {
   "codemirror_mode": {
    "name": "ipython",
    "version": 3
   },
   "file_extension": ".py",
   "mimetype": "text/x-python",
   "name": "python",
   "nbconvert_exporter": "python",
   "pygments_lexer": "ipython3",
   "version": "3.12.4"
  }
 },
 "nbformat": 4,
 "nbformat_minor": 2
}
